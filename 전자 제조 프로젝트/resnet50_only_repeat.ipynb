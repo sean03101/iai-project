{
 "cells": [
  {
   "cell_type": "code",
   "execution_count": 1,
   "metadata": {},
   "outputs": [
    {
     "name": "stderr",
     "output_type": "stream",
     "text": [
      "/home/iai/anaconda3/envs/sh_test/lib/python3.9/site-packages/tqdm/auto.py:22: TqdmWarning: IProgress not found. Please update jupyter and ipywidgets. See https://ipywidgets.readthedocs.io/en/stable/user_install.html\n",
      "  from .autonotebook import tqdm as notebook_tqdm\n"
     ]
    }
   ],
   "source": [
    "import os\n",
    "import os.path as osp\n",
    "import argparse\n",
    "from cv2 import imread, normalize, resize\n",
    "import cv2\n",
    "import json\n",
    "import numpy as np\n",
    "import time\n",
    "import datetime\n",
    "import random\n",
    "import logging\n",
    "import sys\n",
    "from PIL import Image\n",
    "\n",
    "from utils import euclidean_metric, one_hot, count_acc\n",
    "from utils import pprint, set_gpu, ensure_path, AverageMeter, Timer, accuracy, one_hot\n",
    "\n",
    "import torch\n",
    "import torch.nn.functional as F\n",
    "from torch.autograd import Variable\n",
    "import torchvision.models as models\n",
    "from torch import nn, optim, autograd\n",
    "from torch.utils.data import DataLoader\n",
    "import torch.utils.data as data\n",
    "import torchvision\n",
    "from random import sample, random\n",
    "\n",
    "from torchvision import datasets, transforms\n",
    "from torch.utils.data import DataLoader, ConcatDataset, Dataset, TensorDataset, WeightedRandomSampler\n",
    "import os.path as osp\n",
    "from tqdm import tqdm\n",
    "\n",
    "from random import sample, random\n",
    "\n",
    "batch_size = 32\n",
    "num_epoch = 100"
   ]
  },
  {
   "cell_type": "code",
   "execution_count": 2,
   "metadata": {},
   "outputs": [],
   "source": [
    "class Customdataset(data.Dataset):\n",
    "    def __init__(self,transform = None):\n",
    "        dalist=None\n",
    "        self.file_paths = []\n",
    "        self.label = []\n",
    "        self.transform = transform\n",
    "        \n",
    "        \n",
    "        file_path = '/home/iai/Desktop/SH/cognex/d-sub-15pin_for-seoultech/imageset/single_image.2class.subject-split.trainval-repeat0/fold.5-5/ratio/100%/train.1-1.txt' # 폴더 경로\n",
    "\n",
    "        with open(file_path) as f:\n",
    "            lines = f.readlines()\n",
    "\n",
    "        image_names = [line.rstrip('\\n') for line in lines]\n",
    "        \n",
    "                \n",
    "        with open('/home/iai/Desktop/SH/cognex/d-sub-15pin_for-seoultech/annotation/single_image.6class.json', 'r') as json_file:\n",
    "            data = json.load(json_file)\n",
    "            \n",
    "        path_image = \"/home/iai/Desktop/SH/cognex/d-sub-15pin_for-seoultech/image/\"\n",
    "        files = os.listdir(path_image)\n",
    "        \n",
    "        for file in files:\n",
    "            if file in image_names:\n",
    "                self.label.append(data['single_image'][file]['class'][0])\n",
    "                self.file_paths.append(path_image + '/' + file)\n",
    "\n",
    "    def __len__(self):\n",
    "\n",
    "        return len(self.file_paths)\n",
    "\n",
    "\n",
    "    def __getitem__(self, idx):\n",
    "        path = self.file_paths[idx]\n",
    "        image = Image.open(path).convert('RGB')\n",
    "        label = self.label[idx]\n",
    "\n",
    "        if self.transform is not None:\n",
    "            image = self.transform(image)\n",
    "        \n",
    "        return image, int(label)"
   ]
  },
  {
   "cell_type": "code",
   "execution_count": 3,
   "metadata": {},
   "outputs": [],
   "source": [
    "data_transforms = transforms.Compose([\n",
    "        \n",
    "        transforms.ToTensor(),\n",
    "        transforms.Normalize(mean=[0.485, 0.456, 0.406],\n",
    "                                 std=[0.229, 0.224, 0.225]),\n",
    "\n",
    "        ])"
   ]
  },
  {
   "cell_type": "code",
   "execution_count": 4,
   "metadata": {},
   "outputs": [
    {
     "name": "stdout",
     "output_type": "stream",
     "text": [
      "train size :208\n",
      "test_size :52\n",
      "train_dataset :208\n",
      "test dataset :52\n"
     ]
    }
   ],
   "source": [
    "##커스텀 데이터셋\n",
    "dataset = Customdataset(transform=data_transforms)\n",
    "train_size = int(0.8 * len(dataset))\n",
    "print(f\"train size :{train_size}\")\n",
    "val_size = len(dataset) - train_size\n",
    "print(f\"test_size :{val_size}\")\n",
    "train_dataset, val_dataset = torch.utils.data.random_split(dataset, [train_size, val_size])\n",
    "\n",
    "print(f\"train_dataset :{len(train_dataset)}\")\n",
    "print(f'test dataset :{len(val_dataset)}')\n"
   ]
  },
  {
   "cell_type": "code",
   "execution_count": 5,
   "metadata": {},
   "outputs": [],
   "source": [
    "from torchsampler import ImbalancedDatasetSampler\n",
    "\n",
    "train_loader = torch.utils.data.DataLoader(train_dataset,\n",
    "                                               batch_size = batch_size, #배치사이즈\n",
    "                                               shuffle = True\n",
    "                                               )\n",
    "\n",
    "val_loader = torch.utils.data.DataLoader(val_dataset,\n",
    "                                               batch_size = batch_size,                                              \n",
    "                                               shuffle = True\n",
    "                                              )"
   ]
  },
  {
   "cell_type": "code",
   "execution_count": 6,
   "metadata": {},
   "outputs": [
    {
     "name": "stdout",
     "output_type": "stream",
     "text": [
      "\n"
     ]
    }
   ],
   "source": [
    "from torchvision import models\n",
    "import torch\n",
    "\n",
    "resnet50_pretrained = models.resnet50(pretrained=True)\n",
    "\n",
    "num_classes = 6\n",
    "num_ftrs = resnet50_pretrained.fc.in_features\n",
    "resnet50_pretrained.fc = nn.Linear(num_ftrs, num_classes)\n",
    "\n",
    "device = torch.device('cuda:0')\n",
    "resnet50_pretrained.to(device)\n",
    "print()"
   ]
  },
  {
   "cell_type": "code",
   "execution_count": 7,
   "metadata": {},
   "outputs": [
    {
     "name": "stdout",
     "output_type": "stream",
     "text": [
      "Validation loss decreased (inf --> 2.980363).  Saving model ...\n",
      "[1] train_loss: 1.711 , val_loss: 1.490 \n",
      "Validation loss decreased (2.980363 --> 2.376329).  Saving model ...\n",
      "[2] train_loss: 1.418 , val_loss: 1.188 \n",
      "Validation loss decreased (2.376329 --> 1.915030).  Saving model ...\n",
      "[3] train_loss: 1.329 , val_loss: 0.958 \n",
      "Not enough epoch\n",
      "[4] train_loss: 1.329 , val_loss: 1.168 \n",
      "Not enough epoch\n",
      "[5] train_loss: 1.288 , val_loss: 1.061 \n",
      "Validation loss decreased (1.915030 --> 1.528928).  Saving model ...\n",
      "[6] train_loss: 1.212 , val_loss: 0.764 \n",
      "Validation loss decreased (1.528928 --> 1.481778).  Saving model ...\n",
      "[7] train_loss: 1.002 , val_loss: 0.741 \n",
      "Not enough epoch\n",
      "[8] train_loss: 1.055 , val_loss: 0.804 \n",
      "Not enough epoch\n",
      "[9] train_loss: 1.028 , val_loss: 0.793 \n",
      "Not enough epoch\n",
      "[10] train_loss: 0.862 , val_loss: 0.799 \n",
      "Validation loss decreased (1.481778 --> 0.890192).  Saving model ...\n",
      "[11] train_loss: 0.671 , val_loss: 0.445 \n",
      "Validation loss decreased (0.890192 --> 0.555663).  Saving model ...\n",
      "[12] train_loss: 0.456 , val_loss: 0.278 \n",
      "Not enough epoch\n",
      "[13] train_loss: 0.305 , val_loss: 0.492 \n",
      "Not enough epoch\n",
      "[14] train_loss: 0.250 , val_loss: 0.359 \n",
      "Not enough epoch\n",
      "[15] train_loss: 0.441 , val_loss: 0.861 \n",
      "Not enough epoch\n",
      "[16] train_loss: 0.418 , val_loss: 0.303 \n",
      "Validation loss decreased (0.555663 --> 0.515541).  Saving model ...\n",
      "[17] train_loss: 0.247 , val_loss: 0.258 \n",
      "Not enough epoch\n",
      "[18] train_loss: 0.124 , val_loss: 0.435 \n",
      "Validation loss decreased (0.515541 --> 0.255589).  Saving model ...\n",
      "[19] train_loss: 0.074 , val_loss: 0.128 \n",
      "Not enough epoch\n",
      "[20] train_loss: 0.014 , val_loss: 0.168 \n",
      "Not enough epoch\n",
      "[21] train_loss: 0.031 , val_loss: 0.166 \n",
      "Not enough epoch\n",
      "[22] train_loss: 0.427 , val_loss: 0.475 \n",
      "Not enough epoch\n",
      "[23] train_loss: 0.248 , val_loss: 0.341 \n",
      "Not enough epoch\n",
      "[24] train_loss: 0.288 , val_loss: 0.190 \n",
      "Not enough epoch\n",
      "[25] train_loss: 0.164 , val_loss: 0.225 \n",
      "Not enough epoch\n",
      "[26] train_loss: 0.112 , val_loss: 0.275 \n",
      "Not enough epoch\n",
      "[27] train_loss: 0.037 , val_loss: 0.283 \n",
      "Not enough epoch\n",
      "[28] train_loss: 0.019 , val_loss: 0.427 \n",
      "Not enough epoch\n",
      "[29] train_loss: 0.024 , val_loss: 0.333 \n",
      "EarlyStopping counter: 1 out of 4\n",
      "[30] train_loss: 0.014 , val_loss: 0.160 \n",
      "EarlyStopping counter: 2 out of 4\n",
      "[31] train_loss: 0.007 , val_loss: 0.156 \n",
      "EarlyStopping counter: 3 out of 4\n",
      "[32] train_loss: 0.001 , val_loss: 0.261 \n",
      "EarlyStopping counter: 4 out of 4\n",
      "[33] train_loss: 0.002 , val_loss: 0.353 \n"
     ]
    }
   ],
   "source": [
    "from pytorchtools import EarlyStopping # 위 링크의 깃허브 파일에서 임포트\n",
    "\n",
    "early_stopping = EarlyStopping(patience = 4, verbose = True, min_epoch=30)\n",
    "\n",
    "loss_func = nn.CrossEntropyLoss()\n",
    "\n",
    "optimizer = torch.optim.Adam(resnet50_pretrained.parameters(), lr=0.00005)\n",
    "\n",
    "train_loss_arr =[]\n",
    "val_loss_arr =[]\n",
    "n = len(train_loader)\n",
    "\n",
    "for i in range(num_epoch):\n",
    "    \n",
    "    train_running_loss = 0.0\n",
    "    for j,[image,label] in enumerate(train_loader):\n",
    "        x = image.to(device)\n",
    "        y =  label.to(device)\n",
    "        \n",
    "        optimizer.zero_grad()\n",
    "        \n",
    "        output = resnet50_pretrained.forward(x)\n",
    "        \n",
    "        loss = loss_func(output,y)\n",
    "        loss.backward()\n",
    "        optimizer.step()\n",
    "        train_running_loss += loss.item()\n",
    "    \n",
    "    train_loss_arr.append(train_running_loss / n)\n",
    "        \n",
    "    resnet50_pretrained.eval()\n",
    "    val_running_loss = 0.0\n",
    "    for j,[image,label] in enumerate(val_loader):\n",
    "        \n",
    "        x = image.to(device)\n",
    "        y =  label.to(device)\n",
    "        \n",
    "        y_pred = resnet50_pretrained(x)\n",
    "        loss = loss_func(y_pred, y)\n",
    "\n",
    "        val_running_loss += loss.item()\n",
    "    \n",
    "    val_loss_arr.append(val_running_loss / len(val_loader))       \n",
    "    early_stopping(val_running_loss, resnet50_pretrained)\n",
    "    \n",
    "    print('[%d] train_loss: %.3f , val_loss: %.3f ' %(i + 1, train_running_loss / len(train_loader) , val_running_loss / len(val_loader)))\n",
    "        \n",
    "    if early_stopping.early_stop and i > 20: # 조건 만족 시 조기 종료\n",
    "        break\n"
   ]
  },
  {
   "cell_type": "code",
   "execution_count": 8,
   "metadata": {},
   "outputs": [
    {
     "data": {
      "image/png": "[encoded data removed]",
      "text/plain": [
       "<Figure size 640x480 with 1 Axes>"
      ]
     },
     "metadata": {},
     "output_type": "display_data"
    }
   ],
   "source": [
    "import matplotlib.pyplot as plt\n",
    "\n",
    "\n",
    "plt.plot(train_loss_arr,\n",
    "         color='skyblue',\n",
    "         marker='o', markerfacecolor='blue',\n",
    "         markersize=4)\n",
    "\n",
    "plt.plot(val_loss_arr,\n",
    "         color='pink',\n",
    "         marker='x', markerfacecolor='red',\n",
    "         markersize=4)\n",
    "\n",
    "plt.title('Model loss')\n",
    "plt.xlabel('epoch')\n",
    "plt.show()"
   ]
  },
  {
   "cell_type": "code",
   "execution_count": 9,
   "metadata": {},
   "outputs": [],
   "source": [
    "class Customdataset(torch.utils.data.Dataset):\n",
    "    def __init__(self,transform = None):\n",
    "        dalist=None\n",
    "        self.file_paths = []\n",
    "        self.label = []\n",
    "        self.transform = transform\n",
    "\n",
    "        file_path = '/home/iai/Desktop/SH/cognex/d-sub-15pin_for-seoultech/imageset/single_image.2class.subject-split.trainval-repeat0/fold.5-5/ratio/100%/test.1.txt' # 폴더 경로\n",
    "\n",
    "        with open(file_path) as f:\n",
    "            lines = f.readlines()\n",
    "\n",
    "        image_names = [line.rstrip('\\n') for line in lines]\n",
    "\n",
    "\n",
    "        path = '/home/iai/Desktop/SH/cognex/d-sub-15pin_for-seoultech/image' # 폴더 경로\n",
    "        files = os.listdir(path) # 해당 폴더에 있는 파일 이름을 리스트 형태로 받음\n",
    "        \n",
    "        with open('/home/iai/Desktop/SH/cognex/d-sub-15pin_for-seoultech/annotation/single_image.6class.json', 'r') as json_file:\n",
    "            data = json.load(json_file)  \n",
    "    \n",
    "        for file in files:\n",
    "            if file in image_names and file.split('_')[1] == 'repeat':\n",
    "                self.label.append(data['single_image'][file]['class'][0])\n",
    "                self.file_paths.append(path + '/' + file)\n",
    "\n",
    "    def __len__(self):\n",
    "\n",
    "        return len(self.file_paths)\n",
    "\n",
    "\n",
    "    def __getitem__(self, idx):\n",
    "        path = self.file_paths[idx]\n",
    "        image = Image.open(path).convert('RGB')\n",
    "        label = self.label[idx]\n",
    "\n",
    "        if self.transform is not None:\n",
    "            image = self.transform(image)\n",
    "        \n",
    "        return image, int(label)\n",
    "    \n",
    "    \n",
    "test_dataset = Customdataset(transform=data_transforms)\n",
    "test_loader = torch.utils.data.DataLoader(test_dataset,\n",
    "                                               batch_size = 16                                       \n",
    "                                              )"
   ]
  },
  {
   "cell_type": "code",
   "execution_count": 10,
   "metadata": {},
   "outputs": [
    {
     "name": "stdout",
     "output_type": "stream",
     "text": [
      "accuracy of 1600 test images: 86.5%\n"
     ]
    }
   ],
   "source": [
    "correct = 0\n",
    "total = 0\n",
    "pred_ls = []\n",
    "real_ls = []\n",
    "\n",
    "context_ls = [] \n",
    "\n",
    "with torch.no_grad(): # 파라미터 업데이트 같은거 안하기 때문에 no_grad를 사용.\n",
    "  # net.eval() # batch normalization이나 dropout을 사용하지 않았기 때문에 사용하지 않음. 항상 주의해야함.\n",
    "  for data in test_loader:\n",
    "    images, labels = data[0].to(device), data[1].to(device)\n",
    "    outputs = resnet50_pretrained(images)\n",
    "    _, predicted = torch.max(outputs.data, 1) # 6개의 class중 가장 값이 높은 것을 예측 label로 추출.\n",
    "    total += labels.size(0) # test 개수\n",
    "    correct += (predicted == labels).sum().item() # 예측값과 실제값이 맞으면 1 아니면 0으로 합산.\n",
    "    \n",
    "    pred_ls.append(predicted.cpu().numpy())\n",
    "    real_ls.append(labels.cpu().numpy())\n",
    "\n",
    "\n",
    "print(f'accuracy of 1600 test images: {100*correct/total}%')"
   ]
  },
  {
   "cell_type": "code",
   "execution_count": 11,
   "metadata": {},
   "outputs": [],
   "source": [
    "pred = np.array(pred_ls).reshape(-1)\n",
    "real = np.array(real_ls).reshape(-1)"
   ]
  },
  {
   "cell_type": "code",
   "execution_count": 12,
   "metadata": {},
   "outputs": [
    {
     "name": "stdout",
     "output_type": "stream",
     "text": [
      "              precision    recall  f1-score   support\n",
      "\n",
      "           0       0.96      0.86      0.91       281\n",
      "           1       0.67      0.69      0.68        29\n",
      "           2       0.83      1.00      0.91        25\n",
      "           3       0.83      0.83      0.83        30\n",
      "           4       0.17      1.00      0.29         5\n",
      "           5       1.00      1.00      1.00        30\n",
      "\n",
      "    accuracy                           0.86       400\n",
      "   macro avg       0.74      0.90      0.77       400\n",
      "weighted avg       0.92      0.86      0.88       400\n",
      "\n"
     ]
    }
   ],
   "source": [
    "from sklearn.metrics import classification_report, confusion_matrix\n",
    "print(classification_report(pred, real))"
   ]
  },
  {
   "cell_type": "code",
   "execution_count": 13,
   "metadata": {},
   "outputs": [
    {
     "data": {
      "image/png": "[encoded data removed]",
      "text/plain": [
       "<Figure size 640x480 with 2 Axes>"
      ]
     },
     "metadata": {},
     "output_type": "display_data"
    }
   ],
   "source": [
    "import itertools\n",
    "\n",
    "def plot_confusion_matrix(con_mat, labels, title='Confusion Matrix', cmap=plt.cm.get_cmap('Blues'), normalize=False):\n",
    "    plt.imshow(con_mat, interpolation='nearest', cmap=cmap)\n",
    "    plt.title(title)\n",
    "    plt.colorbar()\n",
    "    marks = np.arange(len(labels))\n",
    "    nlabels = []\n",
    "    for k in range(len(con_mat)):\n",
    "        n = sum(con_mat[k])\n",
    "        nlabel = '{0}(n={1})'.format(labels[k],n)\n",
    "        nlabels.append(nlabel)\n",
    "    plt.xticks(marks, labels)\n",
    "    plt.yticks(marks, nlabels)\n",
    "\n",
    "    thresh = con_mat.max() / 2.\n",
    "    if normalize:\n",
    "        for i, j in itertools.product(range(con_mat.shape[0]), range(con_mat.shape[1])):\n",
    "            plt.text(j, i, '{0}%'.format(con_mat[i, j] * 100 / n), horizontalalignment=\"center\", color=\"white\" if con_mat[i, j] > thresh else \"black\")\n",
    "    else:\n",
    "        for i, j in itertools.product(range(con_mat.shape[0]), range(con_mat.shape[1])):\n",
    "            plt.text(j, i, con_mat[i, j], horizontalalignment=\"center\", color=\"white\" if con_mat[i, j] > thresh else \"black\")\n",
    "    plt.tight_layout()\n",
    "    plt.ylabel('True label')\n",
    "    plt.xlabel('Predicted label')\n",
    "    plt.show()\n",
    "    \n",
    "cm_df = confusion_matrix(pred, real)    \n",
    "label=['ok', 'scratch', 'fm', 'pin', 'dent', 'glue']\n",
    "plot_confusion_matrix(cm_df, labels=label, normalize=False)"
   ]
  }
 ],
 "metadata": {
  "kernelspec": {
   "display_name": "sh_test",
   "language": "python",
   "name": "python3"
  },
  "language_info": {
   "codemirror_mode": {
    "name": "ipython",
    "version": 3
   },
   "file_extension": ".py",
   "mimetype": "text/x-python",
   "name": "python",
   "nbconvert_exporter": "python",
   "pygments_lexer": "ipython3",
   "version": "3.9.15 (main, Nov 24 2022, 14:31:59) \n[GCC 11.2.0]"
  },
  "orig_nbformat": 4,
  "vscode": {
   "interpreter": {
    "hash": "e7ca6ade228fb881d3061bf3bfd2d80b29326ddee5d719b0d4da242b8e3e15ab"
   }
  }
 },
 "nbformat": 4,
 "nbformat_minor": 2
}
